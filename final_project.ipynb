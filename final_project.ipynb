{
 "cells": [
  {
   "cell_type": "code",
   "execution_count": 1,
   "metadata": {},
   "outputs": [
    {
     "name": "stdout",
     "output_type": "stream",
     "text": [
      "number of nodes: 1072\n",
      "number of edges: 1403\n"
     ]
    }
   ],
   "source": [
    "import pandas as pd\n",
    "import numpy as np\n",
    "import matplotlib.pyplot as plt\n",
    "import networkx as nx\n",
    "from collections import Counter\n",
    "from networkx.algorithms.community import modularity\n",
    "\n",
    "gold_standard = pd.read_csv(\"gold-standard.tsv\",sep='\\t',index_col=0)\n",
    "#all gene names\n",
    "row_index = gold_standard.index.values\n",
    "#all tf names\n",
    "col_index = gold_standard.columns.values\n",
    "#convert to edgelist\n",
    "edgelist = [[tf,row_index[index],gold_standard[tf][index]] \\\n",
    "            for tf in gold_standard for index in gold_standard[tf].to_numpy().nonzero()[0]]\n",
    "\n",
    "#convert edgelist to pandas dataframe to create networkx graph easier\n",
    "edgelist = pd.DataFrame(edgelist)\n",
    "#rename cedgelist column name\n",
    "edgelist.rename(columns={0: 'tf', 1: 'gene',2:'weight'}, inplace=True)\n",
    "new_edgelist = [1 if w==-1 else 2 for w in edgelist['weight']]\n",
    "edgelist['new_weight'] = new_edgelist\n",
    "#create graph\n",
    "DiG = nx.from_pandas_edgelist(edgelist,'tf','gene', edge_attr='weight',create_using=nx.DiGraph)\n",
    "G = nx.from_pandas_edgelist(edgelist,'tf','gene', edge_attr=None,create_using=nx.Graph)\n",
    "\n",
    "#label each node as either tf or gene\n",
    "tf_dict = {tf:\"tf\" for tf in col_index}\n",
    "gene_dict = {gene:\"gene\" for gene in row_index}\n",
    "nx.set_node_attributes(G,tf_dict,name=\"type\")\n",
    "nx.set_node_attributes(G,gene_dict,name=\"type\")\n",
    "print(\"number of nodes:\",len(list(G.nodes())))\n",
    "print(\"number of edges:\",len(list(G.edges())))\n"
   ]
  },
  {
   "cell_type": "code",
   "execution_count": 2,
   "metadata": {},
   "outputs": [
    {
     "data": {
      "image/png": "[encoded data removed]",
      "text/plain": [
       "<Figure size 432x288 with 1 Axes>"
      ]
     },
     "metadata": {
      "needs_background": "light"
     },
     "output_type": "display_data"
    },
    {
     "data": {
      "image/png": "[encoded data removed]",
      "text/plain": [
       "<Figure size 432x288 with 1 Axes>"
      ]
     },
     "metadata": {
      "needs_background": "light"
     },
     "output_type": "display_data"
    },
    {
     "data": {
      "image/png": "[encoded data removed]",
      "text/plain": [
       "<Figure size 432x288 with 1 Axes>"
      ]
     },
     "metadata": {
      "needs_background": "light"
     },
     "output_type": "display_data"
    }
   ],
   "source": [
    "#degree distribution\n",
    "\n",
    "outDegree_dict = dict(DiG.out_degree)\n",
    "inDegree_dict = dict(DiG.in_degree)\n",
    "tf_outDegree = {key : outDegree_dict[key] for key in outDegree_dict if key in col_index}\n",
    "gene_inDegree = {key : inDegree_dict[key] for key in inDegree_dict if key in row_index}\n",
    "tf_outDeg, tf_frac = zip(*Counter(tf_outDegree.values()).items())\n",
    "gene_inDeg, gene_frac = zip(*Counter(gene_inDegree.values()).items())\n",
    "degree_dict = dict(G.degree)\n",
    "deg,frac = zip(*Counter(degree_dict.values()).items())\n",
    "#plot degree distribution for both kind of nodes\n",
    "plt.loglog(deg,frac,\"yo\",label=\"Gene\")\n",
    "plt.xlabel(\"Degree\")\n",
    "plt.ylabel(\"Fraction\")\n",
    "plt.title(\"Log-Log Degree Distribution\")\n",
    "plt.show()\n",
    "\n",
    "plt.loglog(tf_outDeg,tf_frac,\"ro\",label=\"TF\")\n",
    "plt.xlabel(\"Degree\")\n",
    "plt.ylabel(\"Fraction\")\n",
    "plt.title(\"Log-Log Out-Degree Distribution \")\n",
    "plt.show()\n",
    "\n",
    "plt.loglog(gene_inDeg,gene_frac,\"bo\",label=\"Gene\")\n",
    "plt.xlabel(\"Degree\")\n",
    "plt.ylabel(\"Fraction\")\n",
    "plt.title(\"Log-Log In-Degree Distribution of Genes\")\n",
    "plt.show()"
   ]
  },
  {
   "cell_type": "code",
   "execution_count": 3,
   "metadata": {},
   "outputs": [
    {
     "name": "stdout",
     "output_type": "stream",
     "text": [
      "1055\n",
      "3\n",
      "6\n",
      "2\n",
      "2\n",
      "2\n",
      "2\n"
     ]
    }
   ],
   "source": [
    "#size of connected components\n",
    "for i in nx.connected_components(G):\n",
    "    print(len(i))"
   ]
  },
  {
   "cell_type": "markdown",
   "metadata": {},
   "source": [
    "# Degree Analysis"
   ]
  },
  {
   "cell_type": "code",
   "execution_count": 43,
   "metadata": {},
   "outputs": [
    {
     "name": "stdout",
     "output_type": "stream",
     "text": [
      "Max out degree centrality:  ('YNL216W', 0.1858076563958917)\n",
      "Max in degree centrality:  ('YOL058W', 0.0056022408963585435)\n",
      "Degree assortativity:  -0.36315342722919464\n",
      "Average Clustering Coefficient:  0.008095412160316014\n"
     ]
    }
   ],
   "source": [
    "import operator\n",
    "#centrality\n",
    "outDeg_cen = nx.out_degree_centrality(DiG)\n",
    "inDeg_cen = nx.in_degree_centrality(DiG)\n",
    "print(\"Max out degree centrality: \", sorted(outDeg_cen.items(), key=operator.itemgetter(1))[::-1][0])\n",
    "print(\"Max in degree centrality: \", sorted(inDeg_cen.items(), key=operator.itemgetter(1))[::-1][0])\n",
    "#degree_assortativity\n",
    "print(\"Degree assortativity: \", nx.degree_assortativity_coefficient(G))\n",
    "#clustering coefficient\n",
    "print(\"Average Clustering Coefficient: \",nx.average_clustering(G))"
   ]
  },
  {
   "cell_type": "markdown",
   "metadata": {},
   "source": [
    "# Louvain"
   ]
  },
  {
   "cell_type": "code",
   "execution_count": 195,
   "metadata": {},
   "outputs": [
    {
     "name": "stdout",
     "output_type": "stream",
     "text": [
      "Louvain number of communities detected:  20\n",
      "Modularity score:  0.7355615151527423\n"
     ]
    }
   ],
   "source": [
    "import community\n",
    "from networkx.algorithms.community import modularity, greedy_modularity_communities\n",
    "#Louvain (Can only be used with undirected graph)\n",
    "#we take the LCC\n",
    "lcc = max(nx.connected_component_subgraphs(G), key=len)\n",
    "part = community.best_partition(lcc)\n",
    "# sorted_part = sorted(part.items(), key=operator.itemgetter(1))\n",
    "print(\"Louvain number of communities detected: \",max(list(part.values()))+1)\n",
    "# print(\"Modularity maximization number of communities detected: \",len(greedy_modularity_communities(lcc)))\n",
    "\n",
    "#construct new partition list for Louvain\n",
    "allPart_list = []\n",
    "for i in range(max(list(part.values()))+1):\n",
    "    part_list = []\n",
    "    for key in part:\n",
    "        if part[key] == i:\n",
    "            part_list.append(key)\n",
    "    allPart_list.append(part_list)\n",
    "#modularity score of partitioning by Louvain\n",
    "print(\"Modularity score: \", modularity(lcc,allPart_list))"
   ]
  },
  {
   "cell_type": "code",
   "execution_count": 218,
   "metadata": {},
   "outputs": [],
   "source": [
    "#write out partition csv files\n",
    "counter = 0\n",
    "for i in allPart_list:\n",
    "    i = pd.DataFrame(i)\n",
    "    i.to_csv(\"louvain_part\"+str(counter)+\".csv\",index=False,header=False)\n",
    "    counter += 1"
   ]
  },
  {
   "cell_type": "code",
   "execution_count": 259,
   "metadata": {},
   "outputs": [],
   "source": [
    "# write .gml file for each cluster for graphing in Gephi\n",
    "counter = 0\n",
    "for p in allPart_list:   \n",
    "    subgraph = G.subgraph(p)\n",
    "    nx.write_gml(subgraph,\"louvain_subgraph\"+str(counter)+\".gml\")\n",
    "    counter+=1"
   ]
  },
  {
   "cell_type": "markdown",
   "metadata": {},
   "source": [
    "# Spectral"
   ]
  },
  {
   "cell_type": "code",
   "execution_count": 229,
   "metadata": {},
   "outputs": [],
   "source": [
    "from sklearn.cluster import SpectralClustering\n",
    "from sklearn import metrics\n",
    "\n",
    "#Apply Spectral Clustering\n",
    "lcc = max(nx.connected_component_subgraphs(G), key=len)\n",
    "adj_mat = nx.to_numpy_matrix(lcc)\n",
    "nodelist = list(lcc.nodes())\n",
    "clusters = SpectralClustering(affinity = 'precomputed', assign_labels=\"discretize\",random_state=0,n_clusters=20).fit_predict(adj_mat)\n"
   ]
  },
  {
   "cell_type": "code",
   "execution_count": 230,
   "metadata": {},
   "outputs": [
    {
     "name": "stdout",
     "output_type": "stream",
     "text": [
      "Modularity score:  0.7007203543792601\n"
     ]
    }
   ],
   "source": [
    "#Reformat clusters into dataframes\n",
    "clusters = pd.DataFrame(clusters)\n",
    "clusters.rename(columns={0:'clusters'},inplace=True)\n",
    "nodelist = pd.DataFrame(nodelist)\n",
    "nodelist.rename(columns={0:'node'},inplace=True)\n",
    "spec_part = pd.concat([nodelist,clusters],axis=1)\n",
    "spec_part.sort_values(by=['clusters'])\n",
    "\n",
    "#Sort clusters and put them into a dictionary where the key is IDs and \n",
    "spec_part=spec_part.sort_values(by=['clusters'])\n",
    "spec_nodeList = []\n",
    "spec_clusterList = []\n",
    "for i in spec_part['node']:\n",
    "    spec_nodeList.append(i)\n",
    "for j in spec_part['clusters']:\n",
    "    spec_clusterList.append(j)\n",
    "spec_allClusters = {spec_nodeList[i]:spec_clusterList[i] for i in range(len(spec_nodeList))}\n",
    "\n",
    "#reformat cluster dictionary into new cluster list consisting of lists of node IDs\n",
    "allClusters_list = []\n",
    "for i in range(max(list(spec_allClusters.values()))+1):\n",
    "    cluster_list = []\n",
    "    for key in spec_allClusters:\n",
    "        if spec_allClusters[key] == i:\n",
    "            cluster_list.append(key)\n",
    "    allClusters_list.append(cluster_list)\n",
    "print(\"Modularity score: \",modularity(lcc,allClusters_list))"
   ]
  },
  {
   "cell_type": "code",
   "execution_count": 231,
   "metadata": {},
   "outputs": [],
   "source": [
    "#write out node list csv files for GO term analysis\n",
    "counter = 0\n",
    "for i in allClusters_list:\n",
    "    i = pd.DataFrame(i)\n",
    "    i.to_csv(\"spectral_part\"+str(counter)+\".csv\",index=False,header=False)\n",
    "    counter += 1"
   ]
  },
  {
   "cell_type": "code",
   "execution_count": 260,
   "metadata": {},
   "outputs": [],
   "source": [
    "#write out gml files for visualization\n",
    "counter = 0\n",
    "for p in allClusters_list:   \n",
    "    subgraph = G.subgraph(p)\n",
    "    nx.write_gml(subgraph,\"spectral_subgraph\"+str(counter)+\".gml\")\n",
    "    counter+=1"
   ]
  },
  {
   "cell_type": "code",
   "execution_count": null,
   "metadata": {
    "scrolled": true
   },
   "outputs": [],
   "source": []
  },
  {
   "cell_type": "code",
   "execution_count": null,
   "metadata": {},
   "outputs": [],
   "source": []
  }
 ],
 "metadata": {
  "kernelspec": {
   "display_name": "Python 3",
   "language": "python",
   "name": "python3"
  },
  "language_info": {
   "codemirror_mode": {
    "name": "ipython",
    "version": 3
   },
   "file_extension": ".py",
   "mimetype": "text/x-python",
   "name": "python",
   "nbconvert_exporter": "python",
   "pygments_lexer": "ipython3",
   "version": "3.6.8"
  }
 },
 "nbformat": 4,
 "nbformat_minor": 2
}
